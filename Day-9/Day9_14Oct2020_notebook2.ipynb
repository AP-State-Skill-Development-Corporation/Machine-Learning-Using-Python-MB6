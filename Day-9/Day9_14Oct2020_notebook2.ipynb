{
 "cells": [
  {
   "cell_type": "markdown",
   "metadata": {},
   "source": [
    "**connect Model with flask webapp**"
   ]
  },
  {
   "cell_type": "code",
   "execution_count": 1,
   "metadata": {},
   "outputs": [],
   "source": [
    "import pickle"
   ]
  },
  {
   "cell_type": "code",
   "execution_count": 2,
   "metadata": {},
   "outputs": [],
   "source": [
    "model = pickle.load(open('fruits.pkl','rb'))"
   ]
  },
  {
   "cell_type": "code",
   "execution_count": null,
   "metadata": {},
   "outputs": [],
   "source": []
  },
  {
   "cell_type": "code",
   "execution_count": null,
   "metadata": {},
   "outputs": [
    {
     "name": "stdout",
     "output_type": "stream",
     "text": [
      " * Serving Flask app \"__main__\" (lazy loading)\n",
      " * Environment: production\n",
      "   WARNING: This is a development server. Do not use it in a production deployment.\n",
      "   Use a production WSGI server instead.\n",
      " * Debug mode: off\n"
     ]
    },
    {
     "name": "stderr",
     "output_type": "stream",
     "text": [
      " * Running on http://127.0.0.1:5000/ (Press CTRL+C to quit)\n",
      "127.0.0.1 - - [14/Oct/2020 10:05:31] \"GET / HTTP/1.1\" 200 -\n",
      "127.0.0.1 - - [14/Oct/2020 10:05:31] \"GET /favicon.ico HTTP/1.1\" 404 -\n",
      "127.0.0.1 - - [14/Oct/2020 10:07:06] \"POST /predict HTTP/1.1\" 200 -\n",
      "127.0.0.1 - - [14/Oct/2020 10:07:06] \"GET /favicon.ico HTTP/1.1\" 404 -\n",
      "127.0.0.1 - - [14/Oct/2020 10:07:44] \"POST /predict HTTP/1.1\" 200 -\n"
     ]
    }
   ],
   "source": [
    "from flask import Flask,request\n",
    "app = Flask(__name__)\n",
    "\n",
    "\n",
    "@app.route('/')\n",
    "def hello_world():\n",
    "   return \"\"\"\n",
    "   <html>\n",
    "   <body>\n",
    "      <form action = \"http://localhost:5000/predict\" method = \"post\">\n",
    "         <p>Enter mass:</p>\n",
    "         <p><input type = \"text\" name = \"mass\" /></p>\n",
    "         \n",
    "         <p>Enter width:</p>\n",
    "         <p><input type = \"text\" name = \"width\" /></p>\n",
    "         \n",
    "         <p>Enter height:</p>\n",
    "         <p><input type = \"text\" name = \"height\" /></p>\n",
    "         <p><input type = \"submit\" value = \"submit\" /></p>\n",
    "      </form>\n",
    "   </body>\n",
    "</html>\n",
    "   \"\"\"\n",
    "\n",
    "\n",
    "\n",
    "@app.route('/predict',methods = ['POST', 'GET'])\n",
    "def predict():\n",
    "    mass = int(request.form['mass'])\n",
    "    width = float(request.form['width'])\n",
    "    height = float(request.form['height'])\n",
    "    \n",
    "    result = model.predict([[ mass,width,height]]) [0]\n",
    "    myDict = {1:'apple',2:'mandarin',3:'orange',4:'lemon'}\n",
    "    return \"It is \" + myDict[result]\n",
    "    \n",
    "    \n",
    "\n",
    "if __name__ == '__main__':\n",
    "   app.run()"
   ]
  },
  {
   "cell_type": "code",
   "execution_count": 3,
   "metadata": {},
   "outputs": [],
   "source": []
  },
  {
   "cell_type": "code",
   "execution_count": null,
   "metadata": {},
   "outputs": [],
   "source": []
  },
  {
   "cell_type": "code",
   "execution_count": null,
   "metadata": {},
   "outputs": [],
   "source": []
  }
 ],
 "metadata": {
  "kernelspec": {
   "display_name": "Python 3",
   "language": "python",
   "name": "python3"
  },
  "language_info": {
   "codemirror_mode": {
    "name": "ipython",
    "version": 3
   },
   "file_extension": ".py",
   "mimetype": "text/x-python",
   "name": "python",
   "nbconvert_exporter": "python",
   "pygments_lexer": "ipython3",
   "version": "3.7.4"
  }
 },
 "nbformat": 4,
 "nbformat_minor": 2
}
