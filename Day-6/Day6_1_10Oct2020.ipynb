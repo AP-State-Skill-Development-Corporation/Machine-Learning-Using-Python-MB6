{
 "cells": [
  {
   "cell_type": "raw",
   "metadata": {},
   "source": [
    "y_actual=['cat','ant','cat','cat','ant','cat']\n",
    "y_pred=['ant','ant','cat','cat','ant','ant']\n",
    "\n",
    "actual           predicted\n",
    "                 ant(p)    cat(n)\n",
    "\n",
    "(p)ant           2(tp)       0(fp)     \n",
    "\n",
    "(n)cat           2(fn)      2(tn)"
   ]
  },
  {
   "cell_type": "code",
   "execution_count": 2,
   "metadata": {},
   "outputs": [
    {
     "name": "stdout",
     "output_type": "stream",
     "text": [
      "[[2 0]\n",
      " [2 2]]\n"
     ]
    }
   ],
   "source": [
    "y_actual=['cat','ant','cat','cat','ant','cat']\n",
    "y_pred=['ant','ant','cat','cat','ant','ant']\n",
    "from sklearn.metrics import confusion_matrix\n",
    "print(confusion_matrix(y_actual,y_pred))"
   ]
  },
  {
   "cell_type": "code",
   "execution_count": null,
   "metadata": {},
   "outputs": [],
   "source": [
    "### Decision Tree\n",
    "- decision tree classifier\n",
    "- decision tree regressor"
   ]
  },
  {
   "cell_type": "markdown",
   "metadata": {},
   "source": [
    "# Decision tree Classifier\n",
    "- entropy----measure of randomness  or measure of unpredictability\n",
    "- information gain----reduce in the entropy\n",
    "- root node\n",
    "- decision node\n",
    "- leaf node"
   ]
  },
  {
   "cell_type": "code",
   "execution_count": null,
   "metadata": {},
   "outputs": [],
   "source": []
  }
 ],
 "metadata": {
  "kernelspec": {
   "display_name": "Python 3",
   "language": "python",
   "name": "python3"
  },
  "language_info": {
   "codemirror_mode": {
    "name": "ipython",
    "version": 3
   },
   "file_extension": ".py",
   "mimetype": "text/x-python",
   "name": "python",
   "nbconvert_exporter": "python",
   "pygments_lexer": "ipython3",
   "version": "3.7.3"
  }
 },
 "nbformat": 4,
 "nbformat_minor": 2
}
